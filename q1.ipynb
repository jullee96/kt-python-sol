{
 "cells": [
  {
   "cell_type": "code",
   "execution_count": 1,
   "id": "a0a56d82",
   "metadata": {},
   "outputs": [
    {
     "name": "stdout",
     "output_type": "stream",
     "text": [
      "[1, 6]\n"
     ]
    }
   ],
   "source": [
    "# Q1 Answer template\n",
    "\n",
    "def solution(lottos, win_nums):\n",
    "    cnt = 0\n",
    "    zero_cnt = 0\n",
    "    rank = [6,5,4,3,2,1]\n",
    "    max_rank = 0\n",
    "    min_rank = 0\n",
    "    \n",
    "    for win in win_nums:\n",
    "        for val in lottos:\n",
    "            if win == val:\n",
    "                cnt += 1\n",
    "                \n",
    "    for val in lottos:\n",
    "        if val == 0:\n",
    "            zero_cnt += 1\n",
    "    \n",
    "    min_rank = cnt\n",
    "    max_rank = cnt + zero_cnt\n",
    "    answer = [0,0]\n",
    "    \n",
    "#     print('max_rank : ',max_rank)\n",
    "#     print('min_rank : ',min_rank)\n",
    "    \n",
    "    for idx, val in enumerate(rank):\n",
    "        if max_rank == 0:\n",
    "             answer[0] = 6\n",
    "        if min_rank >= 6:\n",
    "             answer[1] = 1\n",
    "        if min_rank < 1 :\n",
    "            answer[1] = 6\n",
    "        if val == min_rank:\n",
    "            answer[1] = idx+1\n",
    "        if max_rank <= 6: \n",
    "            if val == max_rank:\n",
    "                answer[0] = idx+1\n",
    "        else:\n",
    "            answer[0] = 1\n",
    "        \n",
    "    return answer\n",
    "\n",
    "lottos = [0, 0, 0, 0, 0, 0]\n",
    "# lottos = [44, 11, 14, 3, 32, 25]\n",
    "\n",
    "\n",
    "win_nums = [0, 0, 0, 0, 0, 0]\n",
    "\n",
    "# win_nums = [38, 19, 20, 40, 15, 25]\n",
    "win_nums = [31, 10, 45, 1, 6, 19]\n",
    "answer = solution(lottos, win_nums)\n",
    "print(answer)"
   ]
  }
 ],
 "metadata": {
  "kernelspec": {
   "display_name": "Python 3",
   "language": "python",
   "name": "python3"
  },
  "language_info": {
   "codemirror_mode": {
    "name": "ipython",
    "version": 3
   },
   "file_extension": ".py",
   "mimetype": "text/x-python",
   "name": "python",
   "nbconvert_exporter": "python",
   "pygments_lexer": "ipython3",
   "version": "3.9.13"
  },
  "vscode": {
   "interpreter": {
    "hash": "cf92aa13fedf815d5c8dd192b8d835913fde3e8bc926b2a0ad6cc74ef2ba3ca2"
   }
  }
 },
 "nbformat": 4,
 "nbformat_minor": 5
}
